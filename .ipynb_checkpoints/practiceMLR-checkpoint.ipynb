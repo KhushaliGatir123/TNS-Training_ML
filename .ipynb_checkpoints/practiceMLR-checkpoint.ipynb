{
 "cells": [
  {
   "cell_type": "code",
   "execution_count": 28,
   "id": "343659fb-f49a-43ce-bca4-d28f7592df46",
   "metadata": {},
   "outputs": [
    {
     "name": "stdout",
     "output_type": "stream",
     "text": [
      "data:  {'hours': [2, 4, 6, 8], 'problems_solved': [10, 20, 30, 40], 'marks': [40, 60, 70, 90]}\n",
      "dataframe:\n",
      "    hours  problems_solved  marks\n",
      "0      2               10     40\n",
      "1      4               20     60\n",
      "2      6               30     70\n",
      "3      8               40     90\n",
      "predicted output:  [41.]\n",
      "intercept b0 24.999999999999993\n",
      "slope b1 0.30769230769230776\n",
      "slope b2 1.5384615384615388\n"
     ]
    }
   ],
   "source": [
    "import numpy as np\n",
    "import pandas as pd\n",
    "from sklearn.linear_model import LinearRegression\n",
    "\n",
    "data = {\n",
    "    \"hours\":[2,4,6,8],\n",
    "    \"problems_solved\":[10,20,30,40],\n",
    "    \"marks\":[40,60,70,90]\n",
    "}\n",
    "print(\"data: \",data)\n",
    "df = pd.DataFrame(data)\n",
    "print(\"dataframe:\\n\",df)\n",
    "\n",
    "X = df[[\"hours\",\"problems_solved\"]]\n",
    "y = df[\"marks\"]\n",
    "\n",
    "model = LinearRegression()\n",
    "model.fit(X,y)\n",
    "\n",
    "# Example: Predict marks for a student who studied 2 hours and solved 10 problems\n",
    "#predicted = model.predict(np.array([[2,10]])) \n",
    "predicted = model.predict(pd.DataFrame([[2,10]],columns=['hours','problems_solved']))\n",
    "print(\"predicted output: \",predicted)\n",
    "\n",
    "print(\"intercept b0\",model.intercept_)\n",
    "print(\"slope b1\",model.coef_[0])\n",
    "print(\"slope b2\",model.coef_[1])"
   ]
  },
  {
   "cell_type": "code",
   "execution_count": null,
   "id": "bfb44187-1539-4fa4-93c5-cbfc27e3c7dc",
   "metadata": {},
   "outputs": [],
   "source": []
  },
  {
   "cell_type": "code",
   "execution_count": null,
   "id": "531329be-19e0-4f0b-aa67-720719cb56d5",
   "metadata": {},
   "outputs": [],
   "source": []
  }
 ],
 "metadata": {
  "kernelspec": {
   "display_name": "Python 3 (ipykernel)",
   "language": "python",
   "name": "python3"
  },
  "language_info": {
   "codemirror_mode": {
    "name": "ipython",
    "version": 3
   },
   "file_extension": ".py",
   "mimetype": "text/x-python",
   "name": "python",
   "nbconvert_exporter": "python",
   "pygments_lexer": "ipython3",
   "version": "3.12.1"
  }
 },
 "nbformat": 4,
 "nbformat_minor": 5
}
