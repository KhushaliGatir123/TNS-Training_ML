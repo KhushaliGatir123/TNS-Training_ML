{
 "cells": [
  {
   "cell_type": "code",
   "execution_count": 1,
   "id": "39208353-0dca-496b-b03f-44b15f06ce13",
   "metadata": {},
   "outputs": [],
   "source": [
    "import numpy as np\n",
    "import pandas as pd\n",
    "import matplotlib.pyplot as plt\n",
    "import seaborn as sns\n",
    "\n",
    "from sklearn.linear_model import LinearRegression\n",
    "from sklearn.model_selection import train_test_split\n",
    "from sklearn.preprocessing import LabelEncoder\n",
    "from sklearn.metrics import mean_squared_error,r2_score"
   ]
  },
  {
   "cell_type": "code",
   "execution_count": 2,
   "id": "fae05b8c-be42-46ee-a5fe-219ae6f14865",
   "metadata": {},
   "outputs": [
    {
     "name": "stdout",
     "output_type": "stream",
     "text": [
      "                       name  year  selling_price  km_driven    fuel  \\\n",
      "0             Maruti 800 AC  2007          60000      70000  Petrol   \n",
      "1  Maruti Wagon R LXI Minor  2007         135000      50000  Petrol   \n",
      "2      Hyundai Verna 1.6 SX  2012         600000     100000  Diesel   \n",
      "3    Datsun RediGO T Option  2017         250000      46000  Petrol   \n",
      "4     Honda Amaze VX i-DTEC  2014         450000     141000  Diesel   \n",
      "\n",
      "  seller_type transmission         owner  \n",
      "0  Individual       Manual   First Owner  \n",
      "1  Individual       Manual   First Owner  \n",
      "2  Individual       Manual   First Owner  \n",
      "3  Individual       Manual   First Owner  \n",
      "4  Individual       Manual  Second Owner  \n",
      "              year  selling_price      km_driven\n",
      "count  4340.000000   4.340000e+03    4340.000000\n",
      "mean   2013.090783   5.041273e+05   66215.777419\n",
      "std       4.215344   5.785487e+05   46644.102194\n",
      "min    1992.000000   2.000000e+04       1.000000\n",
      "25%    2011.000000   2.087498e+05   35000.000000\n",
      "50%    2014.000000   3.500000e+05   60000.000000\n",
      "75%    2016.000000   6.000000e+05   90000.000000\n",
      "max    2020.000000   8.900000e+06  806599.000000\n",
      "<class 'pandas.core.frame.DataFrame'>\n",
      "RangeIndex: 4340 entries, 0 to 4339\n",
      "Data columns (total 8 columns):\n",
      " #   Column         Non-Null Count  Dtype \n",
      "---  ------         --------------  ----- \n",
      " 0   name           4340 non-null   object\n",
      " 1   year           4340 non-null   int64 \n",
      " 2   selling_price  4340 non-null   int64 \n",
      " 3   km_driven      4340 non-null   int64 \n",
      " 4   fuel           4340 non-null   object\n",
      " 5   seller_type    4340 non-null   object\n",
      " 6   transmission   4340 non-null   object\n",
      " 7   owner          4340 non-null   object\n",
      "dtypes: int64(3), object(5)\n",
      "memory usage: 271.4+ KB\n",
      "None\n"
     ]
    }
   ],
   "source": [
    "df = pd.read_csv('car_data.csv')\n",
    "#print(df)\n",
    "print(df.head())\n",
    "print(df.describe())\n",
    "print(df.info())"
   ]
  },
  {
   "cell_type": "code",
   "execution_count": 3,
   "id": "93dc69c3-0d20-492b-9aa8-6668539afcd6",
   "metadata": {},
   "outputs": [
    {
     "name": "stdout",
     "output_type": "stream",
     "text": [
      "name             0\n",
      "year             0\n",
      "selling_price    0\n",
      "km_driven        0\n",
      "fuel             0\n",
      "seller_type      0\n",
      "transmission     0\n",
      "owner            0\n",
      "dtype: int64\n",
      "                                     name  year  selling_price  km_driven  \\\n",
      "0                           Maruti 800 AC  2007          60000      70000   \n",
      "1                Maruti Wagon R LXI Minor  2007         135000      50000   \n",
      "2                    Hyundai Verna 1.6 SX  2012         600000     100000   \n",
      "3                  Datsun RediGO T Option  2017         250000      46000   \n",
      "4                   Honda Amaze VX i-DTEC  2014         450000     141000   \n",
      "...                                   ...   ...            ...        ...   \n",
      "4335  Hyundai i20 Magna 1.4 CRDi (Diesel)  2014         409999      80000   \n",
      "4336           Hyundai i20 Magna 1.4 CRDi  2014         409999      80000   \n",
      "4337                  Maruti 800 AC BSIII  2009         110000      83000   \n",
      "4338     Hyundai Creta 1.6 CRDi SX Option  2016         865000      90000   \n",
      "4339                     Renault KWID RXT  2016         225000      40000   \n",
      "\n",
      "        fuel seller_type transmission         owner  car age  \n",
      "0     Petrol  Individual       Manual   First Owner       18  \n",
      "1     Petrol  Individual       Manual   First Owner       18  \n",
      "2     Diesel  Individual       Manual   First Owner       13  \n",
      "3     Petrol  Individual       Manual   First Owner        8  \n",
      "4     Diesel  Individual       Manual  Second Owner       11  \n",
      "...      ...         ...          ...           ...      ...  \n",
      "4335  Diesel  Individual       Manual  Second Owner       11  \n",
      "4336  Diesel  Individual       Manual  Second Owner       11  \n",
      "4337  Petrol  Individual       Manual  Second Owner       16  \n",
      "4338  Diesel  Individual       Manual   First Owner        9  \n",
      "4339  Petrol  Individual       Manual   First Owner        9  \n",
      "\n",
      "[4340 rows x 9 columns]\n"
     ]
    }
   ],
   "source": [
    "#data cleaning\n",
    "#check for missing values\n",
    "print(df.isnull().sum())\n",
    "\n",
    "#there is no missing value (NaN)\n",
    "#if there is missing value so we will drop that row\n",
    "df.dropna(inplace=True)\n",
    "\n",
    "df['car age']=2025-df['year']\n",
    "print(df)"
   ]
  },
  {
   "cell_type": "code",
   "execution_count": 4,
   "id": "78804f77-5fc4-42bb-ad30-ff3fba0c54a2",
   "metadata": {},
   "outputs": [
    {
     "name": "stdout",
     "output_type": "stream",
     "text": [
      "<class 'pandas.core.frame.DataFrame'>\n",
      "RangeIndex: 4340 entries, 0 to 4339\n",
      "Data columns (total 9 columns):\n",
      " #   Column         Non-Null Count  Dtype \n",
      "---  ------         --------------  ----- \n",
      " 0   name           4340 non-null   object\n",
      " 1   year           4340 non-null   int64 \n",
      " 2   selling_price  4340 non-null   int64 \n",
      " 3   km_driven      4340 non-null   int64 \n",
      " 4   fuel           4340 non-null   int32 \n",
      " 5   seller_type    4340 non-null   int32 \n",
      " 6   transmission   4340 non-null   int32 \n",
      " 7   owner          4340 non-null   object\n",
      " 8   car age        4340 non-null   int64 \n",
      "dtypes: int32(3), int64(4), object(2)\n",
      "memory usage: 254.4+ KB\n",
      "None\n"
     ]
    }
   ],
   "source": [
    "#data preprocessing\n",
    "#label encoding is required because model can not understand categorical data\n",
    "le_fuel = LabelEncoder()\n",
    "le_seller_type = LabelEncoder()\n",
    "le_transmission = LabelEncoder()\n",
    "\n",
    "df['fuel']=le_fuel.fit_transform(df['fuel'])\n",
    "df['seller_type']=le_seller_type.fit_transform(df['seller_type'])\n",
    "df['transmission']=le_transmission.fit_transform(df['transmission'])\n",
    "\n",
    "print(df.info())"
   ]
  },
  {
   "cell_type": "code",
   "execution_count": 5,
   "id": "52530ec5-cbfc-411e-87d5-60c9eb31d800",
   "metadata": {},
   "outputs": [],
   "source": [
    "X = df[['car age','km_driven','fuel','seller_type','transmission']]\n",
    "y = df['selling_price']"
   ]
  },
  {
   "cell_type": "code",
   "execution_count": 6,
   "id": "0ca23399-27c6-46f0-b193-6034aa4d8254",
   "metadata": {},
   "outputs": [
    {
     "name": "stdout",
     "output_type": "stream",
     "text": [
      "mean squareed error =  185680440881.24243\n",
      "r2 score =  0.39155137525481265\n"
     ]
    }
   ],
   "source": [
    "X_train,X_test,y_train,y_test = train_test_split(X,y,test_size=0.2,random_state=42)\n",
    "model = LinearRegression()\n",
    "model.fit(X_train,y_train)\n",
    "y_predicted = model.predict(X_test)\n",
    "print(\"mean squareed error = \",mean_squared_error(y_test,y_predicted))\n",
    "print(\"r2 score = \",r2_score(y_test,y_predicted))\n",
    "      "
   ]
  },
  {
   "cell_type": "code",
   "execution_count": 12,
   "id": "3f68fd9d-d6fe-4e63-af5e-8222c04c6f89",
   "metadata": {},
   "outputs": [
    {
     "data": {
      "image/png": "[encoded data removed]",
      "text/plain": [
       "<Figure size 500x400 with 1 Axes>"
      ]
     },
     "metadata": {},
     "output_type": "display_data"
    }
   ],
   "source": [
    "plt.figure(figsize=(5,4))\n",
    "sns.scatterplot(x=y_test,y=y_predicted)\n",
    "#should be diagonal that indicates better prediction\n",
    "plt.title(\"actual vs predicted price\")\n",
    "plt.xlabel(\"actual price\")\n",
    "plt.ylabel(\"predcited price\")\n",
    "plt.grid(True)\n",
    "plt.show()"
   ]
  },
  {
   "cell_type": "code",
   "execution_count": null,
   "id": "7e5b6015-85d5-4a42-84c7-50e3e326e591",
   "metadata": {},
   "outputs": [],
   "source": []
  }
 ],
 "metadata": {
  "kernelspec": {
   "display_name": "Python 3",
   "language": "python",
   "name": "python3"
  },
  "language_info": {
   "codemirror_mode": {
    "name": "ipython",
    "version": 3
   },
   "file_extension": ".py",
   "mimetype": "text/x-python",
   "name": "python",
   "nbconvert_exporter": "python",
   "pygments_lexer": "ipython3",
   "version": "3.12.1"
  }
 },
 "nbformat": 4,
 "nbformat_minor": 5
}
